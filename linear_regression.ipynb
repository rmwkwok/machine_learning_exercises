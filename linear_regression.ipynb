{
 "cells": [
  {
   "cell_type": "code",
   "execution_count": 1,
   "id": "d749aee5-94f5-441a-8ac6-6dc2b15799cd",
   "metadata": {},
   "outputs": [],
   "source": [
    "import numpy as np\n",
    "from matplotlib import pyplot as plt\n",
    "\n",
    "from sklearn import datasets\n",
    "from sklearn.linear_model import LinearRegression"
   ]
  },
  {
   "cell_type": "code",
   "execution_count": 2,
   "id": "9c65911b-1356-4874-ac58-d5f316cf5604",
   "metadata": {},
   "outputs": [],
   "source": [
    "# Load the diabetes dataset\n",
    "data_X, data_y = datasets.load_diabetes(return_X_y=True)"
   ]
  },
  {
   "cell_type": "markdown",
   "id": "30799f7e-37b4-4f26-9f18-1f1e2c7985d9",
   "metadata": {
    "jp-MarkdownHeadingCollapsed": true,
    "tags": []
   },
   "source": [
    "### Data visualization"
   ]
  },
  {
   "cell_type": "code",
   "execution_count": 3,
   "id": "6b4d7a19-c5a3-4362-ad0f-878754652c1c",
   "metadata": {},
   "outputs": [],
   "source": [
    "# TO DO"
   ]
  },
  {
   "cell_type": "markdown",
   "id": "55977594-dce7-4d99-a843-da4d65b9571c",
   "metadata": {
    "jp-MarkdownHeadingCollapsed": true,
    "tags": []
   },
   "source": [
    "### Data preprocessing / Data cleansing / Data transformation"
   ]
  },
  {
   "cell_type": "code",
   "execution_count": 4,
   "id": "ff84f5af-642b-40bf-9866-9f4d9fc5aa44",
   "metadata": {},
   "outputs": [],
   "source": [
    "# TO DO"
   ]
  },
  {
   "cell_type": "markdown",
   "id": "f6104ceb-7b46-41cc-89e9-c29eea6cb7bb",
   "metadata": {
    "jp-MarkdownHeadingCollapsed": true,
    "tags": []
   },
   "source": [
    "### Training, validation, test data splitting\n",
    "\n",
    "Split dataset into training set and test set first.\n",
    "\n",
    "Further split the training set into training and validation sets."
   ]
  },
  {
   "cell_type": "code",
   "execution_count": 5,
   "id": "fafc9815-c11b-471c-b8ae-40884fd32d47",
   "metadata": {},
   "outputs": [],
   "source": [
    "# TO DO\n",
    "train_X, train_y = data_X, data_y\n",
    "valid_X, valid_y = data_X, data_y"
   ]
  },
  {
   "cell_type": "markdown",
   "id": "9d6268aa-036f-4b33-96bc-edfba57cc3b6",
   "metadata": {
    "jp-MarkdownHeadingCollapsed": true,
    "tags": []
   },
   "source": [
    "### numpy"
   ]
  },
  {
   "cell_type": "code",
   "execution_count": 6,
   "id": "56aa9542-8f16-4449-a922-b729ae58c584",
   "metadata": {},
   "outputs": [],
   "source": [
    "# model initialization\n",
    "# Our X is assumed to have a shape of (Number of samples, Number of features)\n",
    "# Our w is assumed to have a shape of (Number of features, )\n",
    "def weights_init(X, seed=20):\n",
    "    '''\n",
    "        This is called a Doc String. It is a piece of string right after the \n",
    "        def line to explain the function to anyone. For how popular code repo \n",
    "        formats this Doc String, check out the source code of any popular\n",
    "        library's function. It is highly suggested to list the expected shapes\n",
    "        of all matrices.\n",
    "    '''\n",
    "    np.random.seed(seed)\n",
    "    m, n = X.shape\n",
    "    \n",
    "    w = np.random.normal(loc=0.0, scale=1.0, size=((n,))) # We could have used other random function\n",
    "    b = 0. # It is usual that we initialize b to zero. Not the difference between \"0.\" and \"0\"\n",
    "    \n",
    "    return w, b"
   ]
  },
  {
   "cell_type": "code",
   "execution_count": 7,
   "id": "8ebfbca5-82d9-4b6c-b19b-1a84db14cd3c",
   "metadata": {},
   "outputs": [],
   "source": [
    "# You called it f_wb, which is a very popular name. I call it forward, to make it sound more like a Neural Network process.\n",
    "# Note the importance of us clearly defined the shapes of X and w in the above cell, because any operation hereafter follows it.\n",
    "def forward(X, w, b):\n",
    "    '''\n",
    "    \n",
    "    '''\n",
    "    return X @ w + b # @ is the operator for matrix multiplication. For details, please read https://numpy.org/doc/stable/reference/generated/numpy.matmul.html#numpy.matmul"
   ]
  },
  {
   "cell_type": "code",
   "execution_count": 8,
   "id": "9286d6c3-1836-43e9-b447-84af733a4fd2",
   "metadata": {},
   "outputs": [],
   "source": [
    "def compute_cost(X, y, w, b):\n",
    "    '''\n",
    "    \n",
    "    '''\n",
    "    m, n = X.shape\n",
    "    error = forward(X, w, b) - y # what is the expected shape?\n",
    "    cost = 1/m * error @ error\n",
    "    return cost"
   ]
  },
  {
   "cell_type": "code",
   "execution_count": 9,
   "id": "69687c03-932f-4374-8480-5101383168fe",
   "metadata": {},
   "outputs": [],
   "source": [
    "def compute_gradient(X, y, w, b):\n",
    "    '''\n",
    "    \n",
    "    '''\n",
    "    m, n = X.shape\n",
    "    error = forward(X, w, b) - y # what is the expected shape?\n",
    "    dw = 1/m * error @ X # what is the expected shape? should be equal to w, right?\n",
    "    db = 1/m * np.sum(error)\n",
    "    \n",
    "    return dw, db"
   ]
  },
  {
   "cell_type": "code",
   "execution_count": 10,
   "id": "71e6c7d9-1bbf-4ce6-ade3-b48a5334f337",
   "metadata": {},
   "outputs": [],
   "source": [
    "def gradient_descent(X, y, w, b, learning_rate):\n",
    "    '''\n",
    "    \n",
    "    '''\n",
    "    dw, db = compute_gradient(X, y, w, b)\n",
    "    w -= learning_rate * dw\n",
    "    b -= learning_rate * db\n",
    "    \n",
    "    return w, b"
   ]
  },
  {
   "cell_type": "code",
   "execution_count": 11,
   "id": "11997823-b02a-4b0e-99d8-4742b85dc491",
   "metadata": {},
   "outputs": [],
   "source": [
    "def fit(X, y, w, b, learning_rate, epochs): #epochs means number of iterations. epochs is the term often used in neural network training\n",
    "    for epoch in range(epochs):\n",
    "        w, b = gradient_descent(X, y, w, b, learning_rate)\n",
    "        cost = compute_cost(X, y, w, b)\n",
    "        \n",
    "        if epoch % 500 == 0 or epochs - 1 == epoch:\n",
    "            print(f'epoch {epoch: 5d} train cost {cost:.6f}')\n",
    "            \n",
    "    return w, b"
   ]
  },
  {
   "cell_type": "code",
   "execution_count": 12,
   "id": "bea1c90f-b083-4b1b-985d-4e1eacf4d4e9",
   "metadata": {
    "scrolled": true,
    "tags": []
   },
   "outputs": [
    {
     "name": "stdout",
     "output_type": "stream",
     "text": [
      "epoch     0 train cost 24681.411215\n",
      "epoch   500 train cost 4580.305665\n",
      "epoch  1000 train cost 3938.291407\n",
      "epoch  1500 train cost 3603.639256\n",
      "epoch  2000 train cost 3408.913914\n",
      "epoch  2500 train cost 3283.159505\n",
      "epoch  3000 train cost 3195.053720\n",
      "epoch  3500 train cost 3129.847747\n",
      "epoch  4000 train cost 3079.942706\n",
      "epoch  4500 train cost 3040.986744\n",
      "epoch  5000 train cost 3010.219629\n",
      "epoch  5500 train cost 2985.741730\n",
      "epoch  6000 train cost 2966.170173\n",
      "epoch  6500 train cost 2950.462366\n",
      "epoch  7000 train cost 2937.815697\n",
      "epoch  7500 train cost 2927.604565\n",
      "epoch  8000 train cost 2919.337579\n",
      "epoch  8500 train cost 2912.626782\n",
      "epoch  9000 train cost 2907.164728\n",
      "epoch  9500 train cost 2902.707050\n",
      "epoch  9999 train cost 2899.065607\n"
     ]
    }
   ],
   "source": [
    "# fit\n",
    "numpy_w, numpy_b = weights_init(train_X)\n",
    "numpy_w, numpy_b = fit(train_X, train_y, numpy_w, numpy_b, learning_rate=0.1, epochs=10000)"
   ]
  },
  {
   "cell_type": "code",
   "execution_count": 13,
   "id": "b4c828b9-0c37-4eb9-bc46-68521ff6b409",
   "metadata": {},
   "outputs": [
    {
     "data": {
      "image/png": "[encoded data removed]",
      "text/plain": [
       "<Figure size 640x480 with 1 Axes>"
      ]
     },
     "metadata": {},
     "output_type": "display_data"
    }
   ],
   "source": [
    "# plot errors\n",
    "numpy_error = forward(valid_X, numpy_w, numpy_b) - valid_y\n",
    "numpy_h, numpy_b, numpy_patches = plt.hist(numpy_error, bins=20)"
   ]
  },
  {
   "cell_type": "markdown",
   "id": "49c20eab-a063-401a-bd9d-021d1319aea6",
   "metadata": {
    "jp-MarkdownHeadingCollapsed": true,
    "tags": []
   },
   "source": [
    "### numpy in class"
   ]
  },
  {
   "cell_type": "code",
   "execution_count": 14,
   "id": "4b87b50e-97a7-49a3-b7b5-252cafdec545",
   "metadata": {},
   "outputs": [],
   "source": [
    "class NumpyLinearRegression:\n",
    "    def __init__(self, seed=20):\n",
    "        self.seed = seed\n",
    "    \n",
    "    def fit(self, X, y, learning_rate, epochs):\n",
    "        self.weights_init(X)\n",
    "        \n",
    "        for epoch in range(epochs):\n",
    "            self.gradient_descent(X, y, learning_rate)\n",
    "            cost = self.compute_cost(X, y)\n",
    "\n",
    "            if epoch % 500 == 0 or epochs - 1 == epoch:\n",
    "                print(f'epoch {epoch: 5d} train cost {cost:.6f}')\n",
    "                \n",
    "        return self\n",
    "        \n",
    "    def weights_init(self, X):\n",
    "        '''\n",
    "\n",
    "        '''\n",
    "        np.random.seed(self.seed)\n",
    "        m, n = X.shape\n",
    "\n",
    "        self.w = np.random.normal(loc=0.0, scale=1.0, size=((n,)))\n",
    "        self.b = 0.\n",
    "        \n",
    "    def forward(self, X):\n",
    "        '''\n",
    "\n",
    "        '''\n",
    "        return X @ self.w + self.b\n",
    "\n",
    "    def compute_cost(self, X, y):\n",
    "        '''\n",
    "\n",
    "        '''\n",
    "        m, n = X.shape\n",
    "        error = self.forward(X) - y\n",
    "        cost = 1/m * error @ error\n",
    "        return cost\n",
    "\n",
    "    def compute_gradient(self, X, y):\n",
    "        '''\n",
    "\n",
    "        '''\n",
    "        m, n = X.shape\n",
    "        error = self.forward(X) - y\n",
    "        dw = 1/m * error @ X\n",
    "        db = 1/m * np.sum(error)\n",
    "\n",
    "        return dw, db\n",
    "\n",
    "    def gradient_descent(self, X, y, learning_rate):\n",
    "        '''\n",
    "\n",
    "        '''\n",
    "        dw, db = self.compute_gradient(X, y)\n",
    "        self.w -= learning_rate * dw\n",
    "        self.b -= learning_rate * db"
   ]
  },
  {
   "cell_type": "code",
   "execution_count": 15,
   "id": "b427e11e-7d56-474f-ab5e-38329c4f4448",
   "metadata": {},
   "outputs": [
    {
     "name": "stdout",
     "output_type": "stream",
     "text": [
      "epoch     0 train cost 24681.411215\n",
      "epoch   500 train cost 4580.305665\n",
      "epoch  1000 train cost 3938.291407\n",
      "epoch  1500 train cost 3603.639256\n",
      "epoch  2000 train cost 3408.913914\n",
      "epoch  2500 train cost 3283.159505\n",
      "epoch  3000 train cost 3195.053720\n",
      "epoch  3500 train cost 3129.847747\n",
      "epoch  4000 train cost 3079.942706\n",
      "epoch  4500 train cost 3040.986744\n",
      "epoch  5000 train cost 3010.219629\n",
      "epoch  5500 train cost 2985.741730\n",
      "epoch  6000 train cost 2966.170173\n",
      "epoch  6500 train cost 2950.462366\n",
      "epoch  7000 train cost 2937.815697\n",
      "epoch  7500 train cost 2927.604565\n",
      "epoch  8000 train cost 2919.337579\n",
      "epoch  8500 train cost 2912.626782\n",
      "epoch  9000 train cost 2907.164728\n",
      "epoch  9500 train cost 2902.707050\n",
      "epoch  9999 train cost 2899.065607\n"
     ]
    }
   ],
   "source": [
    "# fit\n",
    "numpy_lr = NumpyLinearRegression().fit(train_X, train_y, learning_rate=0.1, epochs=10000)\n",
    "numpy_w, numpy_b = numpy_lr.w, numpy_lr.b"
   ]
  },
  {
   "cell_type": "code",
   "execution_count": 16,
   "id": "bf960375-e2f0-42ae-860e-f0a5d8634d3d",
   "metadata": {},
   "outputs": [
    {
     "data": {
      "image/png": "[encoded data removed]",
      "text/plain": [
       "<Figure size 640x480 with 1 Axes>"
      ]
     },
     "metadata": {},
     "output_type": "display_data"
    }
   ],
   "source": [
    "# plot errors\n",
    "numpy_error = numpy_lr.forward(valid_X) - valid_y\n",
    "numpy_h, numpy_b, numpy_patches = plt.hist(numpy_error, bins=20)"
   ]
  },
  {
   "cell_type": "markdown",
   "id": "f03a98ef-166c-4a81-8076-b5d09fa00d28",
   "metadata": {
    "jp-MarkdownHeadingCollapsed": true,
    "tags": []
   },
   "source": [
    "### Sklearn"
   ]
  },
  {
   "cell_type": "code",
   "execution_count": 17,
   "id": "19e2d883-7188-4037-9470-f18c64fcd624",
   "metadata": {},
   "outputs": [],
   "source": [
    "# fit\n",
    "sklearn_lr = LinearRegression().fit(train_X, train_y)\n",
    "sklearn_w, sklearn_b = sklearn_lr.coef_, sklearn_lr.intercept_"
   ]
  },
  {
   "cell_type": "code",
   "execution_count": 18,
   "id": "6d1fc6ab-0d65-4ba9-8751-bfa17fff363f",
   "metadata": {},
   "outputs": [
    {
     "data": {
      "image/png": "[encoded data removed]",
      "text/plain": [
       "<Figure size 640x480 with 1 Axes>"
      ]
     },
     "metadata": {},
     "output_type": "display_data"
    }
   ],
   "source": [
    "sklearn_error = sklearn_lr.predict(valid_X) - valid_y\n",
    "sklearn_h, sklearn_b, sklearn_patches = plt.hist(sklearn_error, bins=20)"
   ]
  },
  {
   "cell_type": "markdown",
   "id": "e4633efe-ec9b-49f3-85d3-422f96bdd62d",
   "metadata": {
    "jp-MarkdownHeadingCollapsed": true,
    "tags": []
   },
   "source": [
    "### Tensorflow"
   ]
  },
  {
   "cell_type": "code",
   "execution_count": 1,
   "id": "8912a233-c337-4b06-b556-3dfa1db918d8",
   "metadata": {},
   "outputs": [],
   "source": [
    "# TO DO"
   ]
  },
  {
   "cell_type": "markdown",
   "id": "30bbb783-2cbb-4acd-b39f-6390bba9ed0f",
   "metadata": {
    "jp-MarkdownHeadingCollapsed": true,
    "tags": []
   },
   "source": [
    "### Compare the error histograms"
   ]
  },
  {
   "cell_type": "code",
   "execution_count": 19,
   "id": "75e953a2-4040-4f02-9fe9-55ea17b1a4f2",
   "metadata": {},
   "outputs": [
    {
     "name": "stdout",
     "output_type": "stream",
     "text": [
      "epoch     0 train cost 24681.411215\n",
      "epoch   500 train cost 4580.305665\n",
      "epoch  1000 train cost 3938.291407\n",
      "epoch  1500 train cost 3603.639256\n",
      "epoch  2000 train cost 3408.913914\n",
      "epoch  2500 train cost 3283.159505\n",
      "epoch  3000 train cost 3195.053720\n",
      "epoch  3500 train cost 3129.847747\n",
      "epoch  4000 train cost 3079.942706\n",
      "epoch  4500 train cost 3040.986744\n",
      "epoch  5000 train cost 3010.219629\n",
      "epoch  5500 train cost 2985.741730\n",
      "epoch  6000 train cost 2966.170173\n",
      "epoch  6500 train cost 2950.462366\n",
      "epoch  7000 train cost 2937.815697\n",
      "epoch  7500 train cost 2927.604565\n",
      "epoch  8000 train cost 2919.337579\n",
      "epoch  8500 train cost 2912.626782\n",
      "epoch  9000 train cost 2907.164728\n",
      "epoch  9500 train cost 2902.707050\n",
      "epoch  9999 train cost 2899.065607\n"
     ]
    },
    {
     "data": {
      "image/png": "[encoded data removed]",
      "text/plain": [
       "<Figure size 640x480 with 1 Axes>"
      ]
     },
     "metadata": {},
     "output_type": "display_data"
    }
   ],
   "source": [
    "numpy_lr = NumpyLinearRegression().fit(train_X, train_y, learning_rate=0.1, epochs=10000)\n",
    "numpy_w, numpy_b = numpy_lr.w, numpy_lr.b\n",
    "numpy_error = numpy_lr.forward(valid_X) - valid_y\n",
    "\n",
    "sklearn_lr = LinearRegression().fit(train_X, train_y)\n",
    "sklearn_w, sklearn_b = sklearn_lr.coef_, sklearn_lr.intercept_\n",
    "sklearn_error = sklearn_lr.predict(valid_X) - valid_y\n",
    "\n",
    "_ = plt.hist([numpy_error, sklearn_error], bins=20, label=['numpy', 'sklearn'])\n",
    "_ = plt.legend()"
   ]
  },
  {
   "cell_type": "markdown",
   "id": "7005d53b-3805-4125-9e4f-4ed710df65ac",
   "metadata": {
    "jp-MarkdownHeadingCollapsed": true,
    "tags": []
   },
   "source": [
    "### Hyperparameters tuning and CV "
   ]
  },
  {
   "cell_type": "code",
   "execution_count": 20,
   "id": "4d084f3f-70ee-4b31-9182-4bc703860737",
   "metadata": {},
   "outputs": [],
   "source": [
    "# TO DO"
   ]
  },
  {
   "cell_type": "markdown",
   "id": "d56d58cc-c0e8-4106-b2f7-3ed4174e1238",
   "metadata": {},
   "source": [
    "### Others\n",
    "Modify this notebook to add L2 regularization\n",
    "\n",
    "Modify this notebook to add Adam optimizer in numpy and tensorflow\n",
    "\n",
    "Create a new notebook for Logistic Regression"
   ]
  }
 ],
 "metadata": {
  "kernelspec": {
   "display_name": "Python 3 (ipykernel)",
   "language": "python",
   "name": "python3"
  },
  "language_info": {
   "codemirror_mode": {
    "name": "ipython",
    "version": 3
   },
   "file_extension": ".py",
   "mimetype": "text/x-python",
   "name": "python",
   "nbconvert_exporter": "python",
   "pygments_lexer": "ipython3",
   "version": "3.10.6"
  }
 },
 "nbformat": 4,
 "nbformat_minor": 5
}
